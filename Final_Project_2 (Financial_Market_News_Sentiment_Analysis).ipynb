{
 "cells": [
  {
   "cell_type": "markdown",
   "id": "a15d37b9",
   "metadata": {},
   "source": [
    "# Financial Market News - Sentiment Analysis"
   ]
  },
  {
   "cell_type": "markdown",
   "id": "0e33d7cd",
   "metadata": {},
   "source": [
    "---------"
   ]
  },
  {
   "cell_type": "markdown",
   "id": "6e2bf00d",
   "metadata": {},
   "source": [
    "## Objective \n",
    "\n",
    "We aim to analyze the digital text (Financial Market News) to determine and find the review / emotional tone (reaction) / feedback of the audience who read the Financial Market News since the start of January'20 till the end of March'21. The review is mentioned in the 'Labels' column, having two categorical values, that is, '1' for positive review / reaction / feedback and '0' for negative review / reaction / feedback. It is importent to predict thefeedback of the news headlines as it determines the need of the customer, and chance to shape their sales and marketing plans, improve crisis management, and also look for improvement of their product to see what works and what doesn't. We are aiming to make a Sentiment Analysis model by using three different algorithms (that is, Logistic Regression, Support Vector Machine Classifier, and Random Forest Classifier). We also compared the accuracy of each model. By creating this model for the news, they can improve customer experience, optimize their services for their customer,and increase the positivity."
   ]
  },
  {
   "cell_type": "markdown",
   "id": "9ce448fe",
   "metadata": {},
   "source": [
    "## Data Source \n",
    "The dataset we used is available on Kaggle (link: 'https://github.com/YBI-Foundation/Dataset/blob/main/Financial%20Market%20News.csv').\n",
    "For in-depth information about the available libraries, modules and functions, we used Pandas, Numpy,and Matplotlib official website where they have provided free information about all libraries that can be used to bring the desirable outcome for our Machine Learning Model."
   ]
  },
  {
   "cell_type": "markdown",
   "id": "dbb40f24",
   "metadata": {},
   "source": [
    "## Import Library"
   ]
  },
  {
   "cell_type": "code",
   "execution_count": 2,
   "id": "4334ea3a",
   "metadata": {},
   "outputs": [],
   "source": [
    "import pandas as pd\n",
    "import numpy as np\n",
    "import matplotlib.pyplot as plt"
   ]
  },
  {
   "cell_type": "markdown",
   "id": "5c671b39",
   "metadata": {},
   "source": [
    "## Import Data "
   ]
  },
  {
   "cell_type": "code",
   "execution_count": 3,
   "id": "7c4c856f",
   "metadata": {},
   "outputs": [],
   "source": [
    "fmn=pd.read_csv('https://github.com/YBI-Foundation/Dataset/raw/main/Financial%20Market%20News.csv',encoding=\"ISO-8859-1\")"
   ]
  },
  {
   "cell_type": "markdown",
   "id": "82f50b3b",
   "metadata": {},
   "source": [
    "## Describe Data"
   ]
  },
  {
   "cell_type": "code",
   "execution_count": 4,
   "id": "a1045b58",
   "metadata": {},
   "outputs": [
    {
     "data": {
      "text/html": [
       "<div>\n",
       "<style scoped>\n",
       "    .dataframe tbody tr th:only-of-type {\n",
       "        vertical-align: middle;\n",
       "    }\n",
       "\n",
       "    .dataframe tbody tr th {\n",
       "        vertical-align: top;\n",
       "    }\n",
       "\n",
       "    .dataframe thead th {\n",
       "        text-align: right;\n",
       "    }\n",
       "</style>\n",
       "<table border=\"1\" class=\"dataframe\">\n",
       "  <thead>\n",
       "    <tr style=\"text-align: right;\">\n",
       "      <th></th>\n",
       "      <th>Date</th>\n",
       "      <th>Label</th>\n",
       "      <th>News 1</th>\n",
       "      <th>News 2</th>\n",
       "      <th>News 3</th>\n",
       "      <th>News 4</th>\n",
       "      <th>News 5</th>\n",
       "      <th>News 6</th>\n",
       "      <th>News 7</th>\n",
       "      <th>News 8</th>\n",
       "      <th>...</th>\n",
       "      <th>News 16</th>\n",
       "      <th>News 17</th>\n",
       "      <th>News 18</th>\n",
       "      <th>News 19</th>\n",
       "      <th>News 20</th>\n",
       "      <th>News 21</th>\n",
       "      <th>News 22</th>\n",
       "      <th>News 23</th>\n",
       "      <th>News 24</th>\n",
       "      <th>News 25</th>\n",
       "    </tr>\n",
       "  </thead>\n",
       "  <tbody>\n",
       "    <tr>\n",
       "      <th>0</th>\n",
       "      <td>01-01-2010</td>\n",
       "      <td>0</td>\n",
       "      <td>McIlroy's men catch cold from Gudjonsson</td>\n",
       "      <td>Obituary: Brian Walsh</td>\n",
       "      <td>Workplace blues leave employers in the red</td>\n",
       "      <td>Classical review: Rattle</td>\n",
       "      <td>Dance review: Merce Cunningham</td>\n",
       "      <td>Genetic tests to be used in setting premiums</td>\n",
       "      <td>Opera review: La Bohème</td>\n",
       "      <td>Pop review: Britney Spears</td>\n",
       "      <td>...</td>\n",
       "      <td>Finland 0 - 0 England</td>\n",
       "      <td>Healy a marked man</td>\n",
       "      <td>Happy birthday Harpers &amp; Queen</td>\n",
       "      <td>Win unlimited access to the Raindance film fes...</td>\n",
       "      <td>Labour pledges £800m to bridge north-south divide</td>\n",
       "      <td>Wales: Lib-Lab pact firm despite resignation</td>\n",
       "      <td>Donald Dewar</td>\n",
       "      <td>Regenerating homes  regenerates well-being in ...</td>\n",
       "      <td>Win £100 worth of underwear</td>\n",
       "      <td>TV guide: Random views</td>\n",
       "    </tr>\n",
       "    <tr>\n",
       "      <th>1</th>\n",
       "      <td>02-01-2010</td>\n",
       "      <td>0</td>\n",
       "      <td>Warning from history points to crash</td>\n",
       "      <td>Investors flee to dollar haven</td>\n",
       "      <td>Banks and tobacco in favour</td>\n",
       "      <td>Review: Llama Farmers</td>\n",
       "      <td>War jitters lead to sell-off</td>\n",
       "      <td>Your not-so-secret history</td>\n",
       "      <td>Review: The Northern Sinfonia</td>\n",
       "      <td>Review: Hysteria</td>\n",
       "      <td>...</td>\n",
       "      <td>Why Wenger will stick to his Gunners</td>\n",
       "      <td>Out of luck England hit rock bottom</td>\n",
       "      <td>Wilkinson out of his depth</td>\n",
       "      <td>Kinsella sparks Irish power play</td>\n",
       "      <td>Brown banished as Scots rebound</td>\n",
       "      <td>Battling Wales cling to lifeline</td>\n",
       "      <td>Ehiogu close to sealing Boro move</td>\n",
       "      <td>Man-to-man marking</td>\n",
       "      <td>Match stats</td>\n",
       "      <td>French referee at centre of storm is no strang...</td>\n",
       "    </tr>\n",
       "    <tr>\n",
       "      <th>2</th>\n",
       "      <td>03-01-2010</td>\n",
       "      <td>0</td>\n",
       "      <td>Comment: Why Israel's peaceniks feel betrayed</td>\n",
       "      <td>Court deals blow to seizure of drug assets</td>\n",
       "      <td>An ideal target for spooks</td>\n",
       "      <td>World steps between two sides intent on war</td>\n",
       "      <td>What the region's papers say</td>\n",
       "      <td>Comment: Fear and rage in Palestine</td>\n",
       "      <td>Poverty and resentment fuels Palestinian fury</td>\n",
       "      <td>Republican feud fear as dissident is killed</td>\n",
       "      <td>...</td>\n",
       "      <td>FTSE goes upwardly mobile</td>\n",
       "      <td>At this price?  BP Amoco</td>\n",
       "      <td>Go fish</td>\n",
       "      <td>Bosnian Serb blows himself up to evade law</td>\n",
       "      <td>Orange float delayed to 2001</td>\n",
       "      <td>Angry factory workers root out fear, favours a...</td>\n",
       "      <td>Smith defied advice on dome payout</td>\n",
       "      <td>Xerox takes the axe to jobs</td>\n",
       "      <td>Comment: Refugees in Britain</td>\n",
       "      <td>Maverick who sparked the new intifada</td>\n",
       "    </tr>\n",
       "    <tr>\n",
       "      <th>3</th>\n",
       "      <td>04-01-2010</td>\n",
       "      <td>1</td>\n",
       "      <td>£750,000-a-goal Weah aims parting shot</td>\n",
       "      <td>Newcastle pay for Fletcher years</td>\n",
       "      <td>Brown sent to the stands for Scotland qualifier</td>\n",
       "      <td>Tourists wary of breaking new ground</td>\n",
       "      <td>Canary Wharf climbs into the FTSE 100</td>\n",
       "      <td>Review: Bill Bailey</td>\n",
       "      <td>Review: Classical</td>\n",
       "      <td>Review: New Contemporaries 2000</td>\n",
       "      <td>...</td>\n",
       "      <td>More cash on way for counties</td>\n",
       "      <td>Cairns carries Kiwis to victory</td>\n",
       "      <td>Year of Blanchflower's flourish when Spurs sto...</td>\n",
       "      <td>New direct approach brings only pay-per-blues</td>\n",
       "      <td>Third Division  round-up</td>\n",
       "      <td>Second Division  round-up</td>\n",
       "      <td>First Division  round-up</td>\n",
       "      <td>McLean ends his career with a punch</td>\n",
       "      <td>Heskey grabs triple crown</td>\n",
       "      <td>Weah on his way as City march on</td>\n",
       "    </tr>\n",
       "    <tr>\n",
       "      <th>4</th>\n",
       "      <td>05-01-2010</td>\n",
       "      <td>1</td>\n",
       "      <td>Leeds arrive in Turkey to the silence of the fans</td>\n",
       "      <td>One woman's vision offers loan lifeline</td>\n",
       "      <td>Working Lives: How world leaders worked</td>\n",
       "      <td>Working Lives: Tricks of the trade</td>\n",
       "      <td>Working Lives: six-hour days, long lunches and...</td>\n",
       "      <td>Pop review: We Love UK</td>\n",
       "      <td>World music review: Marisa Monte</td>\n",
       "      <td>Art review:  Hollingsworth/Heyer</td>\n",
       "      <td>...</td>\n",
       "      <td>Duisenberg in double trouble</td>\n",
       "      <td>Pru to cut pension charges</td>\n",
       "      <td>Art review: Paul Graham</td>\n",
       "      <td>Shearer shot sparks Boro humiliation</td>\n",
       "      <td>Ridsdale's lingering fears as Leeds revisit Tu...</td>\n",
       "      <td>Champions League: Rangers v Galatasaray</td>\n",
       "      <td>Champions League: Lazio v Arsenal</td>\n",
       "      <td>Lazio 1 - 1 Arsenal</td>\n",
       "      <td>England in Pakistan</td>\n",
       "      <td>England given olive-branch reception</td>\n",
       "    </tr>\n",
       "  </tbody>\n",
       "</table>\n",
       "<p>5 rows × 27 columns</p>\n",
       "</div>"
      ],
      "text/plain": [
       "         Date  Label                                             News 1  \\\n",
       "0  01-01-2010      0           McIlroy's men catch cold from Gudjonsson   \n",
       "1  02-01-2010      0               Warning from history points to crash   \n",
       "2  03-01-2010      0      Comment: Why Israel's peaceniks feel betrayed   \n",
       "3  04-01-2010      1             £750,000-a-goal Weah aims parting shot   \n",
       "4  05-01-2010      1  Leeds arrive in Turkey to the silence of the fans   \n",
       "\n",
       "                                       News 2  \\\n",
       "0                       Obituary: Brian Walsh   \n",
       "1              Investors flee to dollar haven   \n",
       "2  Court deals blow to seizure of drug assets   \n",
       "3            Newcastle pay for Fletcher years   \n",
       "4     One woman's vision offers loan lifeline   \n",
       "\n",
       "                                            News 3  \\\n",
       "0       Workplace blues leave employers in the red   \n",
       "1                      Banks and tobacco in favour   \n",
       "2                       An ideal target for spooks   \n",
       "3  Brown sent to the stands for Scotland qualifier   \n",
       "4          Working Lives: How world leaders worked   \n",
       "\n",
       "                                        News 4  \\\n",
       "0                     Classical review: Rattle   \n",
       "1                        Review: Llama Farmers   \n",
       "2  World steps between two sides intent on war   \n",
       "3         Tourists wary of breaking new ground   \n",
       "4           Working Lives: Tricks of the trade   \n",
       "\n",
       "                                              News 5  \\\n",
       "0                     Dance review: Merce Cunningham   \n",
       "1                       War jitters lead to sell-off   \n",
       "2                       What the region's papers say   \n",
       "3              Canary Wharf climbs into the FTSE 100   \n",
       "4  Working Lives: six-hour days, long lunches and...   \n",
       "\n",
       "                                         News 6  \\\n",
       "0  Genetic tests to be used in setting premiums   \n",
       "1                    Your not-so-secret history   \n",
       "2           Comment: Fear and rage in Palestine   \n",
       "3                           Review: Bill Bailey   \n",
       "4                        Pop review: We Love UK   \n",
       "\n",
       "                                          News 7  \\\n",
       "0                        Opera review: La Bohème   \n",
       "1                  Review: The Northern Sinfonia   \n",
       "2  Poverty and resentment fuels Palestinian fury   \n",
       "3                              Review: Classical   \n",
       "4               World music review: Marisa Monte   \n",
       "\n",
       "                                        News 8  ...  \\\n",
       "0                   Pop review: Britney Spears  ...   \n",
       "1                             Review: Hysteria  ...   \n",
       "2  Republican feud fear as dissident is killed  ...   \n",
       "3              Review: New Contemporaries 2000  ...   \n",
       "4             Art review:  Hollingsworth/Heyer  ...   \n",
       "\n",
       "                                News 16                              News 17  \\\n",
       "0                 Finland 0 - 0 England                   Healy a marked man   \n",
       "1  Why Wenger will stick to his Gunners  Out of luck England hit rock bottom   \n",
       "2             FTSE goes upwardly mobile             At this price?  BP Amoco   \n",
       "3         More cash on way for counties      Cairns carries Kiwis to victory   \n",
       "4          Duisenberg in double trouble           Pru to cut pension charges   \n",
       "\n",
       "                                             News 18  \\\n",
       "0                     Happy birthday Harpers & Queen   \n",
       "1                         Wilkinson out of his depth   \n",
       "2                                            Go fish   \n",
       "3  Year of Blanchflower's flourish when Spurs sto...   \n",
       "4                            Art review: Paul Graham   \n",
       "\n",
       "                                             News 19  \\\n",
       "0  Win unlimited access to the Raindance film fes...   \n",
       "1                   Kinsella sparks Irish power play   \n",
       "2         Bosnian Serb blows himself up to evade law   \n",
       "3      New direct approach brings only pay-per-blues   \n",
       "4               Shearer shot sparks Boro humiliation   \n",
       "\n",
       "                                             News 20  \\\n",
       "0  Labour pledges £800m to bridge north-south divide   \n",
       "1                    Brown banished as Scots rebound   \n",
       "2                       Orange float delayed to 2001   \n",
       "3                           Third Division  round-up   \n",
       "4  Ridsdale's lingering fears as Leeds revisit Tu...   \n",
       "\n",
       "                                             News 21  \\\n",
       "0       Wales: Lib-Lab pact firm despite resignation   \n",
       "1                   Battling Wales cling to lifeline   \n",
       "2  Angry factory workers root out fear, favours a...   \n",
       "3                          Second Division  round-up   \n",
       "4            Champions League: Rangers v Galatasaray   \n",
       "\n",
       "                              News 22  \\\n",
       "0                        Donald Dewar   \n",
       "1   Ehiogu close to sealing Boro move   \n",
       "2  Smith defied advice on dome payout   \n",
       "3            First Division  round-up   \n",
       "4   Champions League: Lazio v Arsenal   \n",
       "\n",
       "                                             News 23  \\\n",
       "0  Regenerating homes  regenerates well-being in ...   \n",
       "1                                 Man-to-man marking   \n",
       "2                        Xerox takes the axe to jobs   \n",
       "3                McLean ends his career with a punch   \n",
       "4                                Lazio 1 - 1 Arsenal   \n",
       "\n",
       "                        News 24  \\\n",
       "0   Win £100 worth of underwear   \n",
       "1                   Match stats   \n",
       "2  Comment: Refugees in Britain   \n",
       "3     Heskey grabs triple crown   \n",
       "4           England in Pakistan   \n",
       "\n",
       "                                             News 25  \n",
       "0                             TV guide: Random views  \n",
       "1  French referee at centre of storm is no strang...  \n",
       "2              Maverick who sparked the new intifada  \n",
       "3                   Weah on his way as City march on  \n",
       "4               England given olive-branch reception  \n",
       "\n",
       "[5 rows x 27 columns]"
      ]
     },
     "execution_count": 4,
     "metadata": {},
     "output_type": "execute_result"
    }
   ],
   "source": [
    "fmn.head()"
   ]
  },
  {
   "cell_type": "code",
   "execution_count": 9,
   "id": "67ff5b87",
   "metadata": {},
   "outputs": [
    {
     "data": {
      "text/html": [
       "<div>\n",
       "<style scoped>\n",
       "    .dataframe tbody tr th:only-of-type {\n",
       "        vertical-align: middle;\n",
       "    }\n",
       "\n",
       "    .dataframe tbody tr th {\n",
       "        vertical-align: top;\n",
       "    }\n",
       "\n",
       "    .dataframe thead th {\n",
       "        text-align: right;\n",
       "    }\n",
       "</style>\n",
       "<table border=\"1\" class=\"dataframe\">\n",
       "  <thead>\n",
       "    <tr style=\"text-align: right;\">\n",
       "      <th></th>\n",
       "      <th>Date</th>\n",
       "      <th>Label</th>\n",
       "      <th>News 1</th>\n",
       "      <th>News 2</th>\n",
       "      <th>News 3</th>\n",
       "      <th>News 4</th>\n",
       "      <th>News 5</th>\n",
       "      <th>News 6</th>\n",
       "      <th>News 7</th>\n",
       "      <th>News 8</th>\n",
       "      <th>...</th>\n",
       "      <th>News 16</th>\n",
       "      <th>News 17</th>\n",
       "      <th>News 18</th>\n",
       "      <th>News 19</th>\n",
       "      <th>News 20</th>\n",
       "      <th>News 21</th>\n",
       "      <th>News 22</th>\n",
       "      <th>News 23</th>\n",
       "      <th>News 24</th>\n",
       "      <th>News 25</th>\n",
       "    </tr>\n",
       "  </thead>\n",
       "  <tbody>\n",
       "    <tr>\n",
       "      <th>4091</th>\n",
       "      <td>15-03-2021</td>\n",
       "      <td>1</td>\n",
       "      <td>A staggering 87 percent of Venezuelans say the...</td>\n",
       "      <td>Two corporate whistleblowers may enter into pl...</td>\n",
       "      <td>Poland, together with Russia, Iran, and severa...</td>\n",
       "      <td>Three environmental activists were killed per ...</td>\n",
       "      <td>Ontario funeral business dissolves the dead, p...</td>\n",
       "      <td>New Declassified Documents Reveal How CIA Abus...</td>\n",
       "      <td>Tens of thousands of people gathered in swelte...</td>\n",
       "      <td>Japan's dementia crisis hits record levels as ...</td>\n",
       "      <td>...</td>\n",
       "      <td>Three dead, 45 injured as labor union clashes ...</td>\n",
       "      <td>Indonesia vows to stand firm after skirmishes ...</td>\n",
       "      <td>A study of ocean plankton has shown that an in...</td>\n",
       "      <td>Australia taxes foreign home buyers as afforda...</td>\n",
       "      <td>Paris isn't happy about Amazon's one-hour deli...</td>\n",
       "      <td>Australian man pleads guilty to making sexual ...</td>\n",
       "      <td>Trudeau condemns killing of 14 Canadian Embass...</td>\n",
       "      <td>Vladimir Putin is considering selling part of ...</td>\n",
       "      <td>An elephant has survived being shot in the hea...</td>\n",
       "      <td>Wikileaks founder Julian Assange marks 5 years...</td>\n",
       "    </tr>\n",
       "    <tr>\n",
       "      <th>4092</th>\n",
       "      <td>16-03-2021</td>\n",
       "      <td>1</td>\n",
       "      <td>An Australian athlete who has competed in six ...</td>\n",
       "      <td>Russian state television accidentally broadcas...</td>\n",
       "      <td>In 2015, 50 environmentalists were killed in B...</td>\n",
       "      <td>China's plan to cut meat consumption by 50% ch...</td>\n",
       "      <td>Coral bleaching event now biggest in history  ...</td>\n",
       "      <td>Super-rich quaff champagne in Venezuela countr...</td>\n",
       "      <td>Hong Kong bookseller refuses to be silenced af...</td>\n",
       "      <td>Chinese prosecutors have successfully sued a c...</td>\n",
       "      <td>...</td>\n",
       "      <td>Turkey charges Reporters Without Borders press...</td>\n",
       "      <td>Brussels: Bomb alert at shopping centre sparks...</td>\n",
       "      <td>Australian Paralympian Liesl Tesch robbed at g...</td>\n",
       "      <td>China issues orders to demolish Buddhist 'town...</td>\n",
       "      <td>Gazans squeezed by triple taxes as Hamas repla...</td>\n",
       "      <td>US and Russian fighters in dramatic showdown o...</td>\n",
       "      <td>Rising Tide of 'Politically Acceptable' Killin...</td>\n",
       "      <td>Mexico teachers protest: Six people are dead a...</td>\n",
       "      <td>Canada is set to launch a paid whistleblower p...</td>\n",
       "      <td>Russian football fan leader Alexander Shprygin...</td>\n",
       "    </tr>\n",
       "    <tr>\n",
       "      <th>4093</th>\n",
       "      <td>17-03-2021</td>\n",
       "      <td>0</td>\n",
       "      <td>German government agrees to ban fracking indef...</td>\n",
       "      <td>Teenage recruits were raped by staff and force...</td>\n",
       "      <td>Pakistan is selling nuclear materials to N Kor...</td>\n",
       "      <td>Amazon jaguar shot dead at Olympic torch ceremony</td>\n",
       "      <td>Mexican flags raised around Donald Trump's gol...</td>\n",
       "      <td>EU smashes 2020 emissions target six years ear...</td>\n",
       "      <td>Police kill eight striking Mexican teachers as...</td>\n",
       "      <td>Pro-choice activists have delivered abortion p...</td>\n",
       "      <td>...</td>\n",
       "      <td>Turkish students and graduates from 370 school...</td>\n",
       "      <td>Japan Election Campaign Kicks off, Voting Age ...</td>\n",
       "      <td>Moscow has signed an agreement with Los Angele...</td>\n",
       "      <td>TEPCO admits meltdown cover-up - The president...</td>\n",
       "      <td>Indian State Grants Jews Minority Status - Ind...</td>\n",
       "      <td>Canadian Rescue Plane successfully reaches Sou...</td>\n",
       "      <td>The Swedish parliament on Tuesday voted in fav...</td>\n",
       "      <td>French police teargas migrants trying to board...</td>\n",
       "      <td>Qawwali musician Amjad Sabri was shot dead in ...</td>\n",
       "      <td>N. Korea launches what appears to be Musudan m...</td>\n",
       "    </tr>\n",
       "    <tr>\n",
       "      <th>4094</th>\n",
       "      <td>18-03-2021</td>\n",
       "      <td>1</td>\n",
       "      <td>Today The United Kingdom decides whether to re...</td>\n",
       "      <td>E-cigarettes should not be banned in public, m...</td>\n",
       "      <td>Report: China is still harvesting organs from ...</td>\n",
       "      <td>Man opens fire at cinema complex in Germany, s...</td>\n",
       "      <td>Erdoan: Europe, you dont want us because were ...</td>\n",
       "      <td>Asian millionaires now control more wealth tha...</td>\n",
       "      <td>A Japanese porn industry association has apolo...</td>\n",
       "      <td>University students are being warned when clas...</td>\n",
       "      <td>...</td>\n",
       "      <td>Colombia, FARC announce full ceasefire, 'last ...</td>\n",
       "      <td>Gunmen kill Sufi devotional singer Amjad Sabri...</td>\n",
       "      <td>India launches 20 satellites in single mission</td>\n",
       "      <td>F-16s to be manufactured soon in an assembly l...</td>\n",
       "      <td>Australia's gun laws stopped mass shootings an...</td>\n",
       "      <td>French cement company in Syria buys oil from I...</td>\n",
       "      <td>Pope to visit Armenia after irking Turkey with...</td>\n",
       "      <td>Merkel says NATO must be strengthened</td>\n",
       "      <td>China cracks down on online comments, click-ba...</td>\n",
       "      <td>The prime minister of India is set to get a br...</td>\n",
       "    </tr>\n",
       "    <tr>\n",
       "      <th>4095</th>\n",
       "      <td>19-03-2021</td>\n",
       "      <td>0</td>\n",
       "      <td>David Cameron to Resign as PM After EU Referendum</td>\n",
       "      <td>BBC forecasts UK votes to Leave the European U...</td>\n",
       "      <td>Nicola Sturgeon says a second independence ref...</td>\n",
       "      <td>It's official. Britain votes to leave the Euro...</td>\n",
       "      <td>World's Largest Tibetan Buddhist Institute Ord...</td>\n",
       "      <td>Not a single place in Scotland voted to leave ...</td>\n",
       "      <td>Rich Getting Richer at the Expense of the Poor...</td>\n",
       "      <td>Spanish minister calls for Gibraltar to be ret...</td>\n",
       "      <td>...</td>\n",
       "      <td>Sinn Fein calls for a referendum on Irish reun...</td>\n",
       "      <td>$70 billion wiped off the Australian sharemark...</td>\n",
       "      <td>Nigel Farage disowns Vote Leave '350m for the ...</td>\n",
       "      <td>Top EU leader: we want Britain out as soon as ...</td>\n",
       "      <td>Nigel Farage: 350 million pledge to fund the N...</td>\n",
       "      <td>Thousands of London banking job cuts to start ...</td>\n",
       "      <td>Google says there was a large spike in searche...</td>\n",
       "      <td>EU referendum; Gibraltar backs Remain with 94%...</td>\n",
       "      <td>After Brexit, U.K. Residents Google 'What Is T...</td>\n",
       "      <td>A Turkish man has been found guilty of insulti...</td>\n",
       "    </tr>\n",
       "    <tr>\n",
       "      <th>4096</th>\n",
       "      <td>20-03-2021</td>\n",
       "      <td>0</td>\n",
       "      <td>Barclays and RBS shares suspended from trading...</td>\n",
       "      <td>Pope says Church should ask forgiveness from g...</td>\n",
       "      <td>Poland 'shocked' by xenophobic abuse of Poles ...</td>\n",
       "      <td>There will be no second referendum, cabinet ag...</td>\n",
       "      <td>Scotland welcome to join EU, Merkel ally says</td>\n",
       "      <td>Sterling dips below Friday's 31-year low amid ...</td>\n",
       "      <td>No negative news about South African President...</td>\n",
       "      <td>Surge in Hate Crimes in the U.K. Following U.K...</td>\n",
       "      <td>...</td>\n",
       "      <td>German lawyers to probe Erdogan over alleged w...</td>\n",
       "      <td>Boris Johnson says the UK will continue to \"in...</td>\n",
       "      <td>Richard Branson is calling on the UK governmen...</td>\n",
       "      <td>Turkey 'sorry for downing Russian jet'</td>\n",
       "      <td>Edward Snowden lawyer vows new push for pardon...</td>\n",
       "      <td>Brexit opinion poll reveals majority don't wan...</td>\n",
       "      <td>Conservative MP Leave Campaigner: \"The leave c...</td>\n",
       "      <td>Economists predict UK recession, further weake...</td>\n",
       "      <td>New EU 'superstate plan by France, Germany: Cr...</td>\n",
       "      <td>Pakistani clerics declare transgender marriage...</td>\n",
       "    </tr>\n",
       "    <tr>\n",
       "      <th>4097</th>\n",
       "      <td>21-03-2021</td>\n",
       "      <td>1</td>\n",
       "      <td>2,500 Scientists To Australia: If You Want To ...</td>\n",
       "      <td>The personal details of 112,000 French police ...</td>\n",
       "      <td>S&amp;amp;P cuts United Kingdom sovereign credit r...</td>\n",
       "      <td>Huge helium deposit found in Africa</td>\n",
       "      <td>CEO of the South African state broadcaster qui...</td>\n",
       "      <td>Brexit cost investors $2 trillion, the worst o...</td>\n",
       "      <td>Hong Kong democracy activists call for return ...</td>\n",
       "      <td>Brexit: Iceland president says UK can join 'tr...</td>\n",
       "      <td>...</td>\n",
       "      <td>US, Canada and Mexico pledge 50% of power from...</td>\n",
       "      <td>There is increasing evidence that Australia is...</td>\n",
       "      <td>Richard Branson, the founder of Virgin Group, ...</td>\n",
       "      <td>37,000-yr-old skull from Borneo reveals surpri...</td>\n",
       "      <td>Palestinians stone Western Wall worshipers; po...</td>\n",
       "      <td>Jean-Claude Juncker asks Farage: Why are you h...</td>\n",
       "      <td>\"Romanians for Remainians\" offering a new home...</td>\n",
       "      <td>Brexit: Gibraltar in talks with Scotland to st...</td>\n",
       "      <td>8 Suicide Bombers Strike Lebanon</td>\n",
       "      <td>Mexico's security forces routinely use 'sexual...</td>\n",
       "    </tr>\n",
       "    <tr>\n",
       "      <th>4098</th>\n",
       "      <td>22-03-2021</td>\n",
       "      <td>1</td>\n",
       "      <td>Explosion At Airport In Istanbul</td>\n",
       "      <td>Yemeni former president: Terrorism is the offs...</td>\n",
       "      <td>UK must accept freedom of movement to access E...</td>\n",
       "      <td>Devastated: scientists too late to captive bre...</td>\n",
       "      <td>British Labor Party leader Jeremy Corbyn loses...</td>\n",
       "      <td>A Muslim Shop in the UK Was Just Firebombed Wh...</td>\n",
       "      <td>Mexican Authorities Sexually Torture Women in ...</td>\n",
       "      <td>UK shares and pound continue to recover</td>\n",
       "      <td>...</td>\n",
       "      <td>Escape Tunnel, Dug by Hand, Is Found at Holoca...</td>\n",
       "      <td>The land under Beijing is sinking by as much a...</td>\n",
       "      <td>Car bomb and Anti-Islamic attack on Mosque in ...</td>\n",
       "      <td>Emaciated lions in Taiz Zoo are trapped in blo...</td>\n",
       "      <td>Rupert Murdoch describes Brexit as 'wonderful'...</td>\n",
       "      <td>More than 40 killed in Yemen suicide attacks</td>\n",
       "      <td>Google Found Disastrous Symantec and Norton Vu...</td>\n",
       "      <td>Extremist violence on the rise in Germany: Dom...</td>\n",
       "      <td>BBC News: Labour MPs pass Corbyn no-confidence...</td>\n",
       "      <td>Tiny New Zealand town with 'too many jobs' lau...</td>\n",
       "    </tr>\n",
       "    <tr>\n",
       "      <th>4099</th>\n",
       "      <td>23-03-2021</td>\n",
       "      <td>1</td>\n",
       "      <td>Jamaica proposes marijuana dispensers for tour...</td>\n",
       "      <td>Stephen Hawking says pollution and 'stupidity'...</td>\n",
       "      <td>Boris Johnson says he will not run for Tory pa...</td>\n",
       "      <td>Six gay men in Ivory Coast were abused and for...</td>\n",
       "      <td>Switzerland denies citizenship to Muslim immig...</td>\n",
       "      <td>Palestinian terrorist stabs israeli teen girl ...</td>\n",
       "      <td>Puerto Rico will default on $1 billion of debt...</td>\n",
       "      <td>Republic of Ireland fans to be awarded medal f...</td>\n",
       "      <td>...</td>\n",
       "      <td>Googles free wifi at Indian railway stations i...</td>\n",
       "      <td>Mounting evidence suggests 'hobbits' were wipe...</td>\n",
       "      <td>The men who carried out Tuesday's terror attac...</td>\n",
       "      <td>Calls to suspend Saudi Arabia from UN Human Ri...</td>\n",
       "      <td>More Than 100 Nobel Laureates Call Out Greenpe...</td>\n",
       "      <td>British pedophile sentenced to 85 years in US ...</td>\n",
       "      <td>US permitted 1,200 offshore fracks in Gulf of ...</td>\n",
       "      <td>We will be swimming in ridicule - French beach...</td>\n",
       "      <td>UEFA says no minutes of silence for Istanbul v...</td>\n",
       "      <td>Law Enforcement Sources: Gun Used in Paris Ter...</td>\n",
       "    </tr>\n",
       "    <tr>\n",
       "      <th>4100</th>\n",
       "      <td>24-03-2021</td>\n",
       "      <td>1</td>\n",
       "      <td>A 117-year-old woman in Mexico City finally re...</td>\n",
       "      <td>IMF chief backs Athens as permanent Olympic host</td>\n",
       "      <td>The president of France says if Brexit won, so...</td>\n",
       "      <td>British Man Who Must Give Police 24 Hours' Not...</td>\n",
       "      <td>100+ Nobel laureates urge Greenpeace to stop o...</td>\n",
       "      <td>Brazil: Huge spike in number of police killing...</td>\n",
       "      <td>Austria's highest court annuls presidential el...</td>\n",
       "      <td>Facebook wins privacy case, can track any Belg...</td>\n",
       "      <td>...</td>\n",
       "      <td>The United States has placed Myanmar, Uzbekist...</td>\n",
       "      <td>S&amp;amp;P revises European Union credit rating t...</td>\n",
       "      <td>India gets $1 billion loan from World Bank for...</td>\n",
       "      <td>U.S. sailors detained by Iran spoke too much u...</td>\n",
       "      <td>Mass fish kill in Vietnam solved as Taiwan ste...</td>\n",
       "      <td>Philippines president Rodrigo Duterte urges pe...</td>\n",
       "      <td>Spain arrests three Pakistanis accused of prom...</td>\n",
       "      <td>Venezuela, where anger over food shortages is ...</td>\n",
       "      <td>A Hindu temple worker has been killed by three...</td>\n",
       "      <td>Ozone layer hole seems to be healing - US &amp;amp...</td>\n",
       "    </tr>\n",
       "  </tbody>\n",
       "</table>\n",
       "<p>10 rows × 27 columns</p>\n",
       "</div>"
      ],
      "text/plain": [
       "            Date  Label                                             News 1  \\\n",
       "4091  15-03-2021      1  A staggering 87 percent of Venezuelans say the...   \n",
       "4092  16-03-2021      1  An Australian athlete who has competed in six ...   \n",
       "4093  17-03-2021      0  German government agrees to ban fracking indef...   \n",
       "4094  18-03-2021      1  Today The United Kingdom decides whether to re...   \n",
       "4095  19-03-2021      0  David Cameron to Resign as PM After EU Referendum   \n",
       "4096  20-03-2021      0  Barclays and RBS shares suspended from trading...   \n",
       "4097  21-03-2021      1  2,500 Scientists To Australia: If You Want To ...   \n",
       "4098  22-03-2021      1                   Explosion At Airport In Istanbul   \n",
       "4099  23-03-2021      1  Jamaica proposes marijuana dispensers for tour...   \n",
       "4100  24-03-2021      1  A 117-year-old woman in Mexico City finally re...   \n",
       "\n",
       "                                                 News 2  \\\n",
       "4091  Two corporate whistleblowers may enter into pl...   \n",
       "4092  Russian state television accidentally broadcas...   \n",
       "4093  Teenage recruits were raped by staff and force...   \n",
       "4094  E-cigarettes should not be banned in public, m...   \n",
       "4095  BBC forecasts UK votes to Leave the European U...   \n",
       "4096  Pope says Church should ask forgiveness from g...   \n",
       "4097  The personal details of 112,000 French police ...   \n",
       "4098  Yemeni former president: Terrorism is the offs...   \n",
       "4099  Stephen Hawking says pollution and 'stupidity'...   \n",
       "4100   IMF chief backs Athens as permanent Olympic host   \n",
       "\n",
       "                                                 News 3  \\\n",
       "4091  Poland, together with Russia, Iran, and severa...   \n",
       "4092  In 2015, 50 environmentalists were killed in B...   \n",
       "4093  Pakistan is selling nuclear materials to N Kor...   \n",
       "4094  Report: China is still harvesting organs from ...   \n",
       "4095  Nicola Sturgeon says a second independence ref...   \n",
       "4096  Poland 'shocked' by xenophobic abuse of Poles ...   \n",
       "4097  S&amp;P cuts United Kingdom sovereign credit r...   \n",
       "4098  UK must accept freedom of movement to access E...   \n",
       "4099  Boris Johnson says he will not run for Tory pa...   \n",
       "4100  The president of France says if Brexit won, so...   \n",
       "\n",
       "                                                 News 4  \\\n",
       "4091  Three environmental activists were killed per ...   \n",
       "4092  China's plan to cut meat consumption by 50% ch...   \n",
       "4093  Amazon jaguar shot dead at Olympic torch ceremony   \n",
       "4094  Man opens fire at cinema complex in Germany, s...   \n",
       "4095  It's official. Britain votes to leave the Euro...   \n",
       "4096  There will be no second referendum, cabinet ag...   \n",
       "4097                Huge helium deposit found in Africa   \n",
       "4098  Devastated: scientists too late to captive bre...   \n",
       "4099  Six gay men in Ivory Coast were abused and for...   \n",
       "4100  British Man Who Must Give Police 24 Hours' Not...   \n",
       "\n",
       "                                                 News 5  \\\n",
       "4091  Ontario funeral business dissolves the dead, p...   \n",
       "4092  Coral bleaching event now biggest in history  ...   \n",
       "4093  Mexican flags raised around Donald Trump's gol...   \n",
       "4094  Erdoan: Europe, you dont want us because were ...   \n",
       "4095  World's Largest Tibetan Buddhist Institute Ord...   \n",
       "4096      Scotland welcome to join EU, Merkel ally says   \n",
       "4097  CEO of the South African state broadcaster qui...   \n",
       "4098  British Labor Party leader Jeremy Corbyn loses...   \n",
       "4099  Switzerland denies citizenship to Muslim immig...   \n",
       "4100  100+ Nobel laureates urge Greenpeace to stop o...   \n",
       "\n",
       "                                                 News 6  \\\n",
       "4091  New Declassified Documents Reveal How CIA Abus...   \n",
       "4092  Super-rich quaff champagne in Venezuela countr...   \n",
       "4093  EU smashes 2020 emissions target six years ear...   \n",
       "4094  Asian millionaires now control more wealth tha...   \n",
       "4095  Not a single place in Scotland voted to leave ...   \n",
       "4096  Sterling dips below Friday's 31-year low amid ...   \n",
       "4097  Brexit cost investors $2 trillion, the worst o...   \n",
       "4098  A Muslim Shop in the UK Was Just Firebombed Wh...   \n",
       "4099  Palestinian terrorist stabs israeli teen girl ...   \n",
       "4100  Brazil: Huge spike in number of police killing...   \n",
       "\n",
       "                                                 News 7  \\\n",
       "4091  Tens of thousands of people gathered in swelte...   \n",
       "4092  Hong Kong bookseller refuses to be silenced af...   \n",
       "4093  Police kill eight striking Mexican teachers as...   \n",
       "4094  A Japanese porn industry association has apolo...   \n",
       "4095  Rich Getting Richer at the Expense of the Poor...   \n",
       "4096  No negative news about South African President...   \n",
       "4097  Hong Kong democracy activists call for return ...   \n",
       "4098  Mexican Authorities Sexually Torture Women in ...   \n",
       "4099  Puerto Rico will default on $1 billion of debt...   \n",
       "4100  Austria's highest court annuls presidential el...   \n",
       "\n",
       "                                                 News 8  ...  \\\n",
       "4091  Japan's dementia crisis hits record levels as ...  ...   \n",
       "4092  Chinese prosecutors have successfully sued a c...  ...   \n",
       "4093  Pro-choice activists have delivered abortion p...  ...   \n",
       "4094  University students are being warned when clas...  ...   \n",
       "4095  Spanish minister calls for Gibraltar to be ret...  ...   \n",
       "4096  Surge in Hate Crimes in the U.K. Following U.K...  ...   \n",
       "4097  Brexit: Iceland president says UK can join 'tr...  ...   \n",
       "4098            UK shares and pound continue to recover  ...   \n",
       "4099  Republic of Ireland fans to be awarded medal f...  ...   \n",
       "4100  Facebook wins privacy case, can track any Belg...  ...   \n",
       "\n",
       "                                                News 16  \\\n",
       "4091  Three dead, 45 injured as labor union clashes ...   \n",
       "4092  Turkey charges Reporters Without Borders press...   \n",
       "4093  Turkish students and graduates from 370 school...   \n",
       "4094  Colombia, FARC announce full ceasefire, 'last ...   \n",
       "4095  Sinn Fein calls for a referendum on Irish reun...   \n",
       "4096  German lawyers to probe Erdogan over alleged w...   \n",
       "4097  US, Canada and Mexico pledge 50% of power from...   \n",
       "4098  Escape Tunnel, Dug by Hand, Is Found at Holoca...   \n",
       "4099  Googles free wifi at Indian railway stations i...   \n",
       "4100  The United States has placed Myanmar, Uzbekist...   \n",
       "\n",
       "                                                News 17  \\\n",
       "4091  Indonesia vows to stand firm after skirmishes ...   \n",
       "4092  Brussels: Bomb alert at shopping centre sparks...   \n",
       "4093  Japan Election Campaign Kicks off, Voting Age ...   \n",
       "4094  Gunmen kill Sufi devotional singer Amjad Sabri...   \n",
       "4095  $70 billion wiped off the Australian sharemark...   \n",
       "4096  Boris Johnson says the UK will continue to \"in...   \n",
       "4097  There is increasing evidence that Australia is...   \n",
       "4098  The land under Beijing is sinking by as much a...   \n",
       "4099  Mounting evidence suggests 'hobbits' were wipe...   \n",
       "4100  S&amp;P revises European Union credit rating t...   \n",
       "\n",
       "                                                News 18  \\\n",
       "4091  A study of ocean plankton has shown that an in...   \n",
       "4092  Australian Paralympian Liesl Tesch robbed at g...   \n",
       "4093  Moscow has signed an agreement with Los Angele...   \n",
       "4094     India launches 20 satellites in single mission   \n",
       "4095  Nigel Farage disowns Vote Leave '350m for the ...   \n",
       "4096  Richard Branson is calling on the UK governmen...   \n",
       "4097  Richard Branson, the founder of Virgin Group, ...   \n",
       "4098  Car bomb and Anti-Islamic attack on Mosque in ...   \n",
       "4099  The men who carried out Tuesday's terror attac...   \n",
       "4100  India gets $1 billion loan from World Bank for...   \n",
       "\n",
       "                                                News 19  \\\n",
       "4091  Australia taxes foreign home buyers as afforda...   \n",
       "4092  China issues orders to demolish Buddhist 'town...   \n",
       "4093  TEPCO admits meltdown cover-up - The president...   \n",
       "4094  F-16s to be manufactured soon in an assembly l...   \n",
       "4095  Top EU leader: we want Britain out as soon as ...   \n",
       "4096             Turkey 'sorry for downing Russian jet'   \n",
       "4097  37,000-yr-old skull from Borneo reveals surpri...   \n",
       "4098  Emaciated lions in Taiz Zoo are trapped in blo...   \n",
       "4099  Calls to suspend Saudi Arabia from UN Human Ri...   \n",
       "4100  U.S. sailors detained by Iran spoke too much u...   \n",
       "\n",
       "                                                News 20  \\\n",
       "4091  Paris isn't happy about Amazon's one-hour deli...   \n",
       "4092  Gazans squeezed by triple taxes as Hamas repla...   \n",
       "4093  Indian State Grants Jews Minority Status - Ind...   \n",
       "4094  Australia's gun laws stopped mass shootings an...   \n",
       "4095  Nigel Farage: 350 million pledge to fund the N...   \n",
       "4096  Edward Snowden lawyer vows new push for pardon...   \n",
       "4097  Palestinians stone Western Wall worshipers; po...   \n",
       "4098  Rupert Murdoch describes Brexit as 'wonderful'...   \n",
       "4099  More Than 100 Nobel Laureates Call Out Greenpe...   \n",
       "4100  Mass fish kill in Vietnam solved as Taiwan ste...   \n",
       "\n",
       "                                                News 21  \\\n",
       "4091  Australian man pleads guilty to making sexual ...   \n",
       "4092  US and Russian fighters in dramatic showdown o...   \n",
       "4093  Canadian Rescue Plane successfully reaches Sou...   \n",
       "4094  French cement company in Syria buys oil from I...   \n",
       "4095  Thousands of London banking job cuts to start ...   \n",
       "4096  Brexit opinion poll reveals majority don't wan...   \n",
       "4097  Jean-Claude Juncker asks Farage: Why are you h...   \n",
       "4098       More than 40 killed in Yemen suicide attacks   \n",
       "4099  British pedophile sentenced to 85 years in US ...   \n",
       "4100  Philippines president Rodrigo Duterte urges pe...   \n",
       "\n",
       "                                                News 22  \\\n",
       "4091  Trudeau condemns killing of 14 Canadian Embass...   \n",
       "4092  Rising Tide of 'Politically Acceptable' Killin...   \n",
       "4093  The Swedish parliament on Tuesday voted in fav...   \n",
       "4094  Pope to visit Armenia after irking Turkey with...   \n",
       "4095  Google says there was a large spike in searche...   \n",
       "4096  Conservative MP Leave Campaigner: \"The leave c...   \n",
       "4097  \"Romanians for Remainians\" offering a new home...   \n",
       "4098  Google Found Disastrous Symantec and Norton Vu...   \n",
       "4099  US permitted 1,200 offshore fracks in Gulf of ...   \n",
       "4100  Spain arrests three Pakistanis accused of prom...   \n",
       "\n",
       "                                                News 23  \\\n",
       "4091  Vladimir Putin is considering selling part of ...   \n",
       "4092  Mexico teachers protest: Six people are dead a...   \n",
       "4093  French police teargas migrants trying to board...   \n",
       "4094              Merkel says NATO must be strengthened   \n",
       "4095  EU referendum; Gibraltar backs Remain with 94%...   \n",
       "4096  Economists predict UK recession, further weake...   \n",
       "4097  Brexit: Gibraltar in talks with Scotland to st...   \n",
       "4098  Extremist violence on the rise in Germany: Dom...   \n",
       "4099  We will be swimming in ridicule - French beach...   \n",
       "4100  Venezuela, where anger over food shortages is ...   \n",
       "\n",
       "                                                News 24  \\\n",
       "4091  An elephant has survived being shot in the hea...   \n",
       "4092  Canada is set to launch a paid whistleblower p...   \n",
       "4093  Qawwali musician Amjad Sabri was shot dead in ...   \n",
       "4094  China cracks down on online comments, click-ba...   \n",
       "4095  After Brexit, U.K. Residents Google 'What Is T...   \n",
       "4096  New EU 'superstate plan by France, Germany: Cr...   \n",
       "4097                   8 Suicide Bombers Strike Lebanon   \n",
       "4098  BBC News: Labour MPs pass Corbyn no-confidence...   \n",
       "4099  UEFA says no minutes of silence for Istanbul v...   \n",
       "4100  A Hindu temple worker has been killed by three...   \n",
       "\n",
       "                                                News 25  \n",
       "4091  Wikileaks founder Julian Assange marks 5 years...  \n",
       "4092  Russian football fan leader Alexander Shprygin...  \n",
       "4093  N. Korea launches what appears to be Musudan m...  \n",
       "4094  The prime minister of India is set to get a br...  \n",
       "4095  A Turkish man has been found guilty of insulti...  \n",
       "4096  Pakistani clerics declare transgender marriage...  \n",
       "4097  Mexico's security forces routinely use 'sexual...  \n",
       "4098  Tiny New Zealand town with 'too many jobs' lau...  \n",
       "4099  Law Enforcement Sources: Gun Used in Paris Ter...  \n",
       "4100  Ozone layer hole seems to be healing - US &amp...  \n",
       "\n",
       "[10 rows x 27 columns]"
      ]
     },
     "execution_count": 9,
     "metadata": {},
     "output_type": "execute_result"
    }
   ],
   "source": [
    "fmn.tail(10)"
   ]
  },
  {
   "cell_type": "code",
   "execution_count": 5,
   "id": "1138a74a",
   "metadata": {},
   "outputs": [
    {
     "data": {
      "text/html": [
       "<div>\n",
       "<style scoped>\n",
       "    .dataframe tbody tr th:only-of-type {\n",
       "        vertical-align: middle;\n",
       "    }\n",
       "\n",
       "    .dataframe tbody tr th {\n",
       "        vertical-align: top;\n",
       "    }\n",
       "\n",
       "    .dataframe thead th {\n",
       "        text-align: right;\n",
       "    }\n",
       "</style>\n",
       "<table border=\"1\" class=\"dataframe\">\n",
       "  <thead>\n",
       "    <tr style=\"text-align: right;\">\n",
       "      <th></th>\n",
       "      <th>Label</th>\n",
       "    </tr>\n",
       "  </thead>\n",
       "  <tbody>\n",
       "    <tr>\n",
       "      <th>count</th>\n",
       "      <td>4101.000000</td>\n",
       "    </tr>\n",
       "    <tr>\n",
       "      <th>mean</th>\n",
       "      <td>0.528164</td>\n",
       "    </tr>\n",
       "    <tr>\n",
       "      <th>std</th>\n",
       "      <td>0.499267</td>\n",
       "    </tr>\n",
       "    <tr>\n",
       "      <th>min</th>\n",
       "      <td>0.000000</td>\n",
       "    </tr>\n",
       "    <tr>\n",
       "      <th>25%</th>\n",
       "      <td>0.000000</td>\n",
       "    </tr>\n",
       "    <tr>\n",
       "      <th>50%</th>\n",
       "      <td>1.000000</td>\n",
       "    </tr>\n",
       "    <tr>\n",
       "      <th>75%</th>\n",
       "      <td>1.000000</td>\n",
       "    </tr>\n",
       "    <tr>\n",
       "      <th>max</th>\n",
       "      <td>1.000000</td>\n",
       "    </tr>\n",
       "  </tbody>\n",
       "</table>\n",
       "</div>"
      ],
      "text/plain": [
       "             Label\n",
       "count  4101.000000\n",
       "mean      0.528164\n",
       "std       0.499267\n",
       "min       0.000000\n",
       "25%       0.000000\n",
       "50%       1.000000\n",
       "75%       1.000000\n",
       "max       1.000000"
      ]
     },
     "execution_count": 5,
     "metadata": {},
     "output_type": "execute_result"
    }
   ],
   "source": [
    "fmn.describe()"
   ]
  },
  {
   "cell_type": "code",
   "execution_count": 6,
   "id": "2571c15b",
   "metadata": {},
   "outputs": [
    {
     "name": "stdout",
     "output_type": "stream",
     "text": [
      "<class 'pandas.core.frame.DataFrame'>\n",
      "RangeIndex: 4101 entries, 0 to 4100\n",
      "Data columns (total 27 columns):\n",
      " #   Column   Non-Null Count  Dtype \n",
      "---  ------   --------------  ----- \n",
      " 0   Date     4101 non-null   object\n",
      " 1   Label    4101 non-null   int64 \n",
      " 2   News 1   4101 non-null   object\n",
      " 3   News 2   4101 non-null   object\n",
      " 4   News 3   4101 non-null   object\n",
      " 5   News 4   4101 non-null   object\n",
      " 6   News 5   4101 non-null   object\n",
      " 7   News 6   4101 non-null   object\n",
      " 8   News 7   4101 non-null   object\n",
      " 9   News 8   4101 non-null   object\n",
      " 10  News 9   4101 non-null   object\n",
      " 11  News 10  4101 non-null   object\n",
      " 12  News 11  4101 non-null   object\n",
      " 13  News 12  4101 non-null   object\n",
      " 14  News 13  4101 non-null   object\n",
      " 15  News 14  4101 non-null   object\n",
      " 16  News 15  4101 non-null   object\n",
      " 17  News 16  4101 non-null   object\n",
      " 18  News 17  4101 non-null   object\n",
      " 19  News 18  4101 non-null   object\n",
      " 20  News 19  4101 non-null   object\n",
      " 21  News 20  4101 non-null   object\n",
      " 22  News 21  4101 non-null   object\n",
      " 23  News 22  4101 non-null   object\n",
      " 24  News 23  4100 non-null   object\n",
      " 25  News 24  4098 non-null   object\n",
      " 26  News 25  4098 non-null   object\n",
      "dtypes: int64(1), object(26)\n",
      "memory usage: 865.2+ KB\n"
     ]
    }
   ],
   "source": [
    "fmn.info()"
   ]
  },
  {
   "cell_type": "code",
   "execution_count": 7,
   "id": "4ad84a3a",
   "metadata": {},
   "outputs": [
    {
     "data": {
      "text/plain": [
       "(4101, 27)"
      ]
     },
     "execution_count": 7,
     "metadata": {},
     "output_type": "execute_result"
    }
   ],
   "source": [
    "fmn.shape"
   ]
  },
  {
   "cell_type": "code",
   "execution_count": 8,
   "id": "9a088bf3",
   "metadata": {},
   "outputs": [
    {
     "data": {
      "text/plain": [
       "Index(['Date', 'Label', 'News 1', 'News 2', 'News 3', 'News 4', 'News 5',\n",
       "       'News 6', 'News 7', 'News 8', 'News 9', 'News 10', 'News 11', 'News 12',\n",
       "       'News 13', 'News 14', 'News 15', 'News 16', 'News 17', 'News 18',\n",
       "       'News 19', 'News 20', 'News 21', 'News 22', 'News 23', 'News 24',\n",
       "       'News 25'],\n",
       "      dtype='object')"
      ]
     },
     "execution_count": 8,
     "metadata": {},
     "output_type": "execute_result"
    }
   ],
   "source": [
    "fmn.columns"
   ]
  },
  {
   "cell_type": "markdown",
   "id": "7f3ebd1e",
   "metadata": {},
   "source": [
    "## Data Visualization"
   ]
  },
  {
   "cell_type": "code",
   "execution_count": 14,
   "id": "7cc8de5d",
   "metadata": {},
   "outputs": [
    {
     "data": {
      "text/plain": [
       "Text(0.5, 1.0, 'Count Plot for labels')"
      ]
     },
     "execution_count": 14,
     "metadata": {},
     "output_type": "execute_result"
    },
    {
     "data": {
      "image/png": "[encoded data removed]",
      "text/plain": [
       "<Figure size 900x700 with 1 Axes>"
      ]
     },
     "metadata": {},
     "output_type": "display_data"
    }
   ],
   "source": [
    "# Count plot for labels feature\n",
    "plt.figure(figsize=(9,7))\n",
    "fmn.Label.value_counts().plot(kind='bar',color=['blue','lime','red'])\n",
    "plt.xlabel(\"News Type; 0-Negative & 1-Positive\")\n",
    "plt.ylabel(\"Count\")\n",
    "plt.title(\"Count Plot for labels\")"
   ]
  },
  {
   "cell_type": "markdown",
   "id": "be0e085d",
   "metadata": {},
   "source": [
    "## Data Preprocessing "
   ]
  },
  {
   "cell_type": "markdown",
   "id": "32ef294c",
   "metadata": {},
   "source": [
    "### Get Feature Selection"
   ]
  },
  {
   "cell_type": "code",
   "execution_count": 15,
   "id": "6e3adf59",
   "metadata": {},
   "outputs": [
    {
     "data": {
      "text/plain": [
       "\"Warning from history points to crash Investors flee to dollar haven Banks and tobacco in favour Review: Llama Farmers War jitters lead to sell-off Your not-so-secret history Review: The Northern Sinfonia Review: Hysteria Review: The Guardsman Opera: The Marriage of Figaro Review: The Turk in Italy Deutsche spells out its plans for diversification Traders' panic sends oil prices skyward TV sport chief leaves home over romance Leader: Hi-tech twitch Why Wenger will stick to his Gunners Out of luck England hit rock bottom Wilkinson out of his depth Kinsella sparks Irish power play Brown banished as Scots rebound Battling Wales cling to lifeline Ehiogu close to sealing Boro move Man-to-man marking Match stats French referee at centre of storm is no stranger to controversy\""
      ]
     },
     "execution_count": 15,
     "metadata": {},
     "output_type": "execute_result"
    }
   ],
   "source": [
    "' '.join(str(x) for x in fmn.iloc[1,2:27])"
   ]
  },
  {
   "cell_type": "code",
   "execution_count": 16,
   "id": "c845ef89",
   "metadata": {},
   "outputs": [
    {
     "data": {
      "text/plain": [
       "RangeIndex(start=0, stop=4101, step=1)"
      ]
     },
     "execution_count": 16,
     "metadata": {},
     "output_type": "execute_result"
    }
   ],
   "source": [
    "fmn.index"
   ]
  },
  {
   "cell_type": "code",
   "execution_count": 17,
   "id": "4a7ad93c",
   "metadata": {},
   "outputs": [
    {
     "data": {
      "text/plain": [
       "4101"
      ]
     },
     "execution_count": 17,
     "metadata": {},
     "output_type": "execute_result"
    }
   ],
   "source": [
    "len(fmn.index)"
   ]
  },
  {
   "cell_type": "code",
   "execution_count": 18,
   "id": "c2c7b0a4",
   "metadata": {},
   "outputs": [],
   "source": [
    "#Headlines of the new\n",
    "news=[]\n",
    "for rows in range(0,len(fmn.index)):\n",
    "    news.append(' '.join(str(x) for x in fmn.iloc[rows,2:27]))"
   ]
  },
  {
   "cell_type": "code",
   "execution_count": 19,
   "id": "a01550c9",
   "metadata": {},
   "outputs": [
    {
     "data": {
      "text/plain": [
       "list"
      ]
     },
     "execution_count": 19,
     "metadata": {},
     "output_type": "execute_result"
    }
   ],
   "source": [
    "type(news)"
   ]
  },
  {
   "cell_type": "code",
   "execution_count": 20,
   "id": "d5294f89",
   "metadata": {},
   "outputs": [
    {
     "data": {
      "text/plain": [
       "\"McIlroy's men catch cold from Gudjonsson Obituary: Brian Walsh Workplace blues leave employers in the red Classical review: Rattle Dance review: Merce Cunningham Genetic tests to be used in setting premiums Opera review: La Bohème Pop review: Britney Spears Theatre review: The Circle Wales face a fraught night Under-21  round-up Smith off to blot his copybook Finns taking the mickey Praise wasted as Brown studies injury options Ireland wary of minnows Finland 0 - 0 England Healy a marked man Happy birthday Harpers & Queen Win unlimited access to the Raindance film festival Labour pledges £800m to bridge north-south divide Wales: Lib-Lab pact firm despite resignation Donald Dewar Regenerating homes  regenerates well-being in people Win £100 worth of underwear TV guide: Random views\""
      ]
     },
     "execution_count": 20,
     "metadata": {},
     "output_type": "execute_result"
    }
   ],
   "source": [
    "news[0]"
   ]
  },
  {
   "cell_type": "code",
   "execution_count": 21,
   "id": "9249340b",
   "metadata": {},
   "outputs": [],
   "source": [
    "x=news"
   ]
  },
  {
   "cell_type": "code",
   "execution_count": 22,
   "id": "d77e1677",
   "metadata": {},
   "outputs": [
    {
     "data": {
      "text/plain": [
       "list"
      ]
     },
     "execution_count": 22,
     "metadata": {},
     "output_type": "execute_result"
    }
   ],
   "source": [
    "type(x)"
   ]
  },
  {
   "cell_type": "markdown",
   "id": "c7731643",
   "metadata": {},
   "source": [
    "### Get Feature text conversion to Bag of words "
   ]
  },
  {
   "cell_type": "code",
   "execution_count": 23,
   "id": "95bd038f",
   "metadata": {},
   "outputs": [],
   "source": [
    "from sklearn.feature_extraction.text import CountVectorizer"
   ]
  },
  {
   "cell_type": "code",
   "execution_count": 24,
   "id": "1afea7fa",
   "metadata": {},
   "outputs": [],
   "source": [
    "cv=CountVectorizer(lowercase= True,ngram_range=(1,1))"
   ]
  },
  {
   "cell_type": "markdown",
   "id": "19ac7f5c",
   "metadata": {},
   "source": [
    "## Define Target variable (x) and Feature variable (y) "
   ]
  },
  {
   "cell_type": "code",
   "execution_count": 25,
   "id": "6d14ace7",
   "metadata": {},
   "outputs": [],
   "source": [
    "X=cv.fit_transform(x)"
   ]
  },
  {
   "cell_type": "code",
   "execution_count": 26,
   "id": "f0b23b1b",
   "metadata": {},
   "outputs": [
    {
     "data": {
      "text/plain": [
       "(4101, 48527)"
      ]
     },
     "execution_count": 26,
     "metadata": {},
     "output_type": "execute_result"
    }
   ],
   "source": [
    "X.shape"
   ]
  },
  {
   "cell_type": "code",
   "execution_count": 27,
   "id": "8aec4e35",
   "metadata": {},
   "outputs": [],
   "source": [
    "y=fmn['Label']"
   ]
  },
  {
   "cell_type": "code",
   "execution_count": 28,
   "id": "b6f5db1f",
   "metadata": {},
   "outputs": [
    {
     "data": {
      "text/plain": [
       "(4101,)"
      ]
     },
     "execution_count": 28,
     "metadata": {},
     "output_type": "execute_result"
    }
   ],
   "source": [
    "y.shape"
   ]
  },
  {
   "cell_type": "markdown",
   "id": "8016a0e4",
   "metadata": {},
   "source": [
    "## Train Test Split "
   ]
  },
  {
   "cell_type": "code",
   "execution_count": 29,
   "id": "5f9ce41a",
   "metadata": {},
   "outputs": [],
   "source": [
    "from sklearn.model_selection import train_test_split"
   ]
  },
  {
   "cell_type": "code",
   "execution_count": 30,
   "id": "f961f15d",
   "metadata": {},
   "outputs": [],
   "source": [
    "x_train,x_test,y_train,y_test=train_test_split(X,y,stratify=y,random_state=2529)"
   ]
  },
  {
   "cell_type": "markdown",
   "id": "846d1988",
   "metadata": {},
   "source": [
    "## Modeling "
   ]
  },
  {
   "cell_type": "markdown",
   "id": "5639c14a",
   "metadata": {},
   "source": [
    "### Model Selection "
   ]
  },
  {
   "cell_type": "markdown",
   "id": "bb936c25",
   "metadata": {},
   "source": [
    "#### 1. Logistic Regression "
   ]
  },
  {
   "cell_type": "code",
   "execution_count": 31,
   "id": "0ec6a887",
   "metadata": {},
   "outputs": [],
   "source": [
    "from sklearn.linear_model import LogisticRegression\n",
    "model1= LogisticRegression()"
   ]
  },
  {
   "cell_type": "markdown",
   "id": "e248a96a",
   "metadata": {},
   "source": [
    "#### 2. Support Vector Machine"
   ]
  },
  {
   "cell_type": "code",
   "execution_count": 33,
   "id": "1b830457",
   "metadata": {},
   "outputs": [],
   "source": [
    "from sklearn.svm import SVC\n",
    "model2= SVC()"
   ]
  },
  {
   "cell_type": "markdown",
   "id": "a91baa0d",
   "metadata": {},
   "source": [
    "#### 3. Random Forest Classification Model"
   ]
  },
  {
   "cell_type": "code",
   "execution_count": 40,
   "id": "2141fc8c",
   "metadata": {},
   "outputs": [],
   "source": [
    "from sklearn.ensemble import RandomForestClassifier\n",
    "rfc=RandomForestClassifier(n_estimators=200)"
   ]
  },
  {
   "cell_type": "markdown",
   "id": "e4528222",
   "metadata": {},
   "source": [
    "### Training the model"
   ]
  },
  {
   "cell_type": "markdown",
   "id": "27c1ca4d",
   "metadata": {},
   "source": [
    "#### 1. Logistic Regression"
   ]
  },
  {
   "cell_type": "code",
   "execution_count": 32,
   "id": "1dbd6ac4",
   "metadata": {},
   "outputs": [
    {
     "name": "stderr",
     "output_type": "stream",
     "text": [
      "E:\\anaconda\\lib\\site-packages\\sklearn\\linear_model\\_logistic.py:814: ConvergenceWarning: lbfgs failed to converge (status=1):\n",
      "STOP: TOTAL NO. of ITERATIONS REACHED LIMIT.\n",
      "\n",
      "Increase the number of iterations (max_iter) or scale the data as shown in:\n",
      "    https://scikit-learn.org/stable/modules/preprocessing.html\n",
      "Please also refer to the documentation for alternative solver options:\n",
      "    https://scikit-learn.org/stable/modules/linear_model.html#logistic-regression\n",
      "  n_iter_i = _check_optimize_result(\n"
     ]
    },
    {
     "data": {
      "text/plain": [
       "LogisticRegression()"
      ]
     },
     "execution_count": 32,
     "metadata": {},
     "output_type": "execute_result"
    }
   ],
   "source": [
    "model1.fit(x_train,y_train)"
   ]
  },
  {
   "cell_type": "markdown",
   "id": "10d45590",
   "metadata": {},
   "source": [
    "#### 2. Support Vector Machine "
   ]
  },
  {
   "cell_type": "code",
   "execution_count": 35,
   "id": "07ef755a",
   "metadata": {},
   "outputs": [
    {
     "data": {
      "text/plain": [
       "SVC()"
      ]
     },
     "execution_count": 35,
     "metadata": {},
     "output_type": "execute_result"
    }
   ],
   "source": [
    "model2.fit(x_train,y_train)"
   ]
  },
  {
   "cell_type": "markdown",
   "id": "e90bcd5b",
   "metadata": {},
   "source": [
    "#### 3. Random Forest "
   ]
  },
  {
   "cell_type": "code",
   "execution_count": 41,
   "id": "d3010fc6",
   "metadata": {},
   "outputs": [
    {
     "data": {
      "text/plain": [
       "RandomForestClassifier(n_estimators=200)"
      ]
     },
     "execution_count": 41,
     "metadata": {},
     "output_type": "execute_result"
    }
   ],
   "source": [
    "rfc.fit(x_train,y_train)"
   ]
  },
  {
   "cell_type": "markdown",
   "id": "a9270dcb",
   "metadata": {},
   "source": [
    "## Prediction "
   ]
  },
  {
   "cell_type": "markdown",
   "id": "c0a995da",
   "metadata": {},
   "source": [
    "#### 1. Logistic Regresion"
   ]
  },
  {
   "cell_type": "code",
   "execution_count": 36,
   "id": "9f80bace",
   "metadata": {},
   "outputs": [],
   "source": [
    "y_lr_pred=model1.predict(x_test)"
   ]
  },
  {
   "cell_type": "markdown",
   "id": "39d79972",
   "metadata": {},
   "source": [
    "#### 2. Support Vector Machine "
   ]
  },
  {
   "cell_type": "code",
   "execution_count": 37,
   "id": "4f71280e",
   "metadata": {},
   "outputs": [],
   "source": [
    "y_svm_pred=model2.predict(x_test)"
   ]
  },
  {
   "cell_type": "markdown",
   "id": "d508fe34",
   "metadata": {},
   "source": [
    "#### 3. Random Forest"
   ]
  },
  {
   "cell_type": "code",
   "execution_count": 42,
   "id": "fd496474",
   "metadata": {},
   "outputs": [],
   "source": [
    "y_rf_pred=rfc.predict(x_test)"
   ]
  },
  {
   "cell_type": "markdown",
   "id": "d98a750a",
   "metadata": {},
   "source": [
    "## Model Evaluation\n",
    "Accuracy"
   ]
  },
  {
   "cell_type": "code",
   "execution_count": 44,
   "id": "0c368332",
   "metadata": {},
   "outputs": [],
   "source": [
    "from sklearn.metrics import classification_report,confusion_matrix,accuracy_score"
   ]
  },
  {
   "cell_type": "markdown",
   "id": "77b843dd",
   "metadata": {},
   "source": [
    "#### 1. Logistic Regression "
   ]
  },
  {
   "cell_type": "code",
   "execution_count": 45,
   "id": "b0c69a63",
   "metadata": {},
   "outputs": [
    {
     "data": {
      "text/plain": [
       "array([[213, 271],\n",
       "       [254, 288]], dtype=int64)"
      ]
     },
     "execution_count": 45,
     "metadata": {},
     "output_type": "execute_result"
    }
   ],
   "source": [
    "confusion_matrix(y_test,y_lr_pred)"
   ]
  },
  {
   "cell_type": "code",
   "execution_count": 46,
   "id": "8f9105e0",
   "metadata": {},
   "outputs": [
    {
     "name": "stdout",
     "output_type": "stream",
     "text": [
      "              precision    recall  f1-score   support\n",
      "\n",
      "           0       0.46      0.44      0.45       484\n",
      "           1       0.52      0.53      0.52       542\n",
      "\n",
      "    accuracy                           0.49      1026\n",
      "   macro avg       0.49      0.49      0.49      1026\n",
      "weighted avg       0.49      0.49      0.49      1026\n",
      "\n"
     ]
    }
   ],
   "source": [
    "print(classification_report(y_test,y_lr_pred))"
   ]
  },
  {
   "cell_type": "code",
   "execution_count": 48,
   "id": "eece56cb",
   "metadata": {},
   "outputs": [
    {
     "name": "stdout",
     "output_type": "stream",
     "text": [
      "The accuracy of the model created (Logistic Regression)=  48.83040935672515\n"
     ]
    }
   ],
   "source": [
    "print(\"The accuracy of the model created (Logistic Regression)= \",100*accuracy_score(y_test,y_lr_pred))"
   ]
  },
  {
   "cell_type": "markdown",
   "id": "ccab2e61",
   "metadata": {},
   "source": [
    "#### 2. Support Vector Machine "
   ]
  },
  {
   "cell_type": "code",
   "execution_count": 49,
   "id": "9e1b5b53",
   "metadata": {},
   "outputs": [
    {
     "data": {
      "text/plain": [
       "array([[ 74, 410],\n",
       "       [110, 432]], dtype=int64)"
      ]
     },
     "execution_count": 49,
     "metadata": {},
     "output_type": "execute_result"
    }
   ],
   "source": [
    "confusion_matrix(y_test,y_svm_pred)"
   ]
  },
  {
   "cell_type": "code",
   "execution_count": 50,
   "id": "4f3d9633",
   "metadata": {},
   "outputs": [
    {
     "name": "stdout",
     "output_type": "stream",
     "text": [
      "              precision    recall  f1-score   support\n",
      "\n",
      "           0       0.40      0.15      0.22       484\n",
      "           1       0.51      0.80      0.62       542\n",
      "\n",
      "    accuracy                           0.49      1026\n",
      "   macro avg       0.46      0.47      0.42      1026\n",
      "weighted avg       0.46      0.49      0.43      1026\n",
      "\n"
     ]
    }
   ],
   "source": [
    "print(classification_report(y_test,y_svm_pred))"
   ]
  },
  {
   "cell_type": "code",
   "execution_count": 52,
   "id": "1bdc2b32",
   "metadata": {},
   "outputs": [
    {
     "name": "stdout",
     "output_type": "stream",
     "text": [
      "The accuracy of the model created (Support Vector Machine)= 49.317738791423\n"
     ]
    }
   ],
   "source": [
    "print(\"The accuracy of the model created (Support Vector Machine)=\",100*accuracy_score(y_test,y_svm_pred))"
   ]
  },
  {
   "cell_type": "markdown",
   "id": "286022e2",
   "metadata": {},
   "source": [
    "#### 3. Random Forest"
   ]
  },
  {
   "cell_type": "code",
   "execution_count": 54,
   "id": "5df0c53f",
   "metadata": {},
   "outputs": [
    {
     "data": {
      "text/plain": [
       "array([[114, 370],\n",
       "       [136, 406]], dtype=int64)"
      ]
     },
     "execution_count": 54,
     "metadata": {},
     "output_type": "execute_result"
    }
   ],
   "source": [
    "confusion_matrix(y_test,y_rf_pred)"
   ]
  },
  {
   "cell_type": "code",
   "execution_count": 55,
   "id": "7b1188df",
   "metadata": {},
   "outputs": [
    {
     "name": "stdout",
     "output_type": "stream",
     "text": [
      "              precision    recall  f1-score   support\n",
      "\n",
      "           0       0.46      0.24      0.31       484\n",
      "           1       0.52      0.75      0.62       542\n",
      "\n",
      "    accuracy                           0.51      1026\n",
      "   macro avg       0.49      0.49      0.46      1026\n",
      "weighted avg       0.49      0.51      0.47      1026\n",
      "\n"
     ]
    }
   ],
   "source": [
    "print(classification_report(y_test,y_rf_pred))"
   ]
  },
  {
   "cell_type": "code",
   "execution_count": 56,
   "id": "8641444f",
   "metadata": {},
   "outputs": [
    {
     "name": "stdout",
     "output_type": "stream",
     "text": [
      "The accuracy of the model created (Random Forest)= 50.682261208576996\n"
     ]
    }
   ],
   "source": [
    "print(\"The accuracy of the model created (Random Forest)=\",100*accuracy_score(y_test,y_rf_pred))"
   ]
  }
 ],
 "metadata": {
  "kernelspec": {
   "display_name": "Python 3 (ipykernel)",
   "language": "python",
   "name": "python3"
  },
  "language_info": {
   "codemirror_mode": {
    "name": "ipython",
    "version": 3
   },
   "file_extension": ".py",
   "mimetype": "text/x-python",
   "name": "python",
   "nbconvert_exporter": "python",
   "pygments_lexer": "ipython3",
   "version": "3.9.13"
  }
 },
 "nbformat": 4,
 "nbformat_minor": 5
}
